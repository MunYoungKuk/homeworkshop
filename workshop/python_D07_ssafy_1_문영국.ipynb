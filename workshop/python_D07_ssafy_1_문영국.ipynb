{
 "cells": [
  {
   "cell_type": "code",
   "execution_count": null,
   "metadata": {},
   "outputs": [],
   "source": [
    "class Circle:\n",
    "    pi = 3.14\n",
    "    x = 0\n",
    "    y = 0\n",
    "    r = 0\n",
    "    \n",
    "    def area(self):\n",
    "        return self.pi * self.r * self.r\n",
    "    \n",
    "    def circumference(self):\n",
    "        return 2* self.pi * self.r\n",
    "    \n",
    "    def center(self):\n",
    "        return (self.x, self.y)\n",
    "    \n",
    "    def move(self, x, y):\n",
    "        self.x = x\n",
    "        self.y = y\n",
    "\n",
    "a = Circle()\n",
    "a.x =2 ;a.y = 4; a.r =3 #a.move(2,4)\n",
    "print(f\"넓이 : {a.area()} , 둘레 : {a.circumference()}\")"
   ]
  },
  {
   "cell_type": "code",
   "execution_count": 15,
   "metadata": {},
   "outputs": [
    {
     "name": "stdout",
     "output_type": "stream",
     "text": [
      "6.486832980505138\n"
     ]
    }
   ],
   "source": [
    "#외접\n",
    "b = Circle()\n",
    "b.move(5,-5)\n",
    "c = ((((a.x-b.x)**2)+((a.y-b.y)**2))**0.5)\n",
    "b.r = c - a.r\n",
    "print(b.r)"
   ]
  },
  {
   "cell_type": "code",
   "execution_count": 17,
   "metadata": {},
   "outputs": [],
   "source": [
    "class Runner:\n",
    "    hp = 100\n",
    "    distance = 41195\n",
    "    minute = 0\n",
    "    \n",
    "    def run_per_10_minute(self):\n",
    "        self.hp -= 7\n",
    "        self.distance -= 3000\n",
    "        self.minute += 10\n",
    "        if self.hp <= 0:\n",
    "            print(\"쓰러졌습니다\")\n",
    "        if self.distance <= 0:\n",
    "            print(f\"도착! 걸린시간 : {self.minute}분\")\n",
    "    \n",
    "    def walk_per_10_minute(self):\n",
    "        self.hp += 3\n",
    "        self.distance -= 1500\n",
    "        self.minute += 10\n",
    "        if self.distance <= 0:\n",
    "            print(f\"도착! 걸린시간 : {self.minute}분\")"
   ]
  },
  {
   "cell_type": "code",
   "execution_count": 19,
   "metadata": {},
   "outputs": [
    {
     "name": "stdout",
     "output_type": "stream",
     "text": [
      "도착! 걸린시간 : 140분\n"
     ]
    }
   ],
   "source": [
    "my_runner = Runner()\n",
    "while my_runner.distance>0:\n",
    "    if my_runner.hp>7:\n",
    "        my_runner.run_per_10_minute()\n",
    "    else:\n",
    "        my_runner.walk_per_10_minute()    "
   ]
  }
 ],
 "metadata": {
  "kernelspec": {
   "display_name": "Python 3",
   "language": "python",
   "name": "python3"
  },
  "language_info": {
   "codemirror_mode": {
    "name": "ipython",
    "version": 3
   },
   "file_extension": ".py",
   "mimetype": "text/x-python",
   "name": "python",
   "nbconvert_exporter": "python",
   "pygments_lexer": "ipython3",
   "version": "3.6.7"
  }
 },
 "nbformat": 4,
 "nbformat_minor": 2
}
